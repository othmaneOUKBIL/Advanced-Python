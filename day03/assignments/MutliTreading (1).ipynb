{
 "cells": [
  {
   "cell_type": "markdown",
   "id": "1d57264a",
   "metadata": {},
   "source": [
    "## 1. Simple Thread Creation\n",
    "\n",
    "Create a simple program that uses threading to print numbers from 1 to 5 in two separate threads."
   ]
  },
  {
   "cell_type": "code",
   "execution_count": 3,
   "id": "0fb3360f",
   "metadata": {},
   "outputs": [
    {
     "name": "stdout",
     "output_type": "stream",
     "text": [
      "1\n",
      "2\n",
      "3\n",
      "4\n",
      "5\n",
      "perf:  0.006806597113609314\n"
     ]
    }
   ],
   "source": [
    "# your code here\n",
    "\n",
    "from time import sleep, perf_counter\n",
    "from threading import Thread\n",
    "def show(k):\n",
    "    for i in range(k[0],k[1]+1):\n",
    "        print(i)\n",
    "    return\n",
    "start = perf_counter()\n",
    "t1=Thread(target=show,args=([1,3],))\n",
    "t2=Thread(target=show,args=([4,5],))\n",
    "t1.start()\n",
    "t2.start()\n",
    "t1.join() \n",
    "t2.join()\n",
    "end = perf_counter()\n",
    "\n",
    "print('perf: ', end - start)"
   ]
  },
  {
   "cell_type": "markdown",
   "id": "a8d8ab14",
   "metadata": {},
   "source": [
    "## 2. Thread Synchronization\n",
    "\n",
    "Modify the program from Exercise 1 to use locks to synchronize the two threads and ensure that they print numbers alternately."
   ]
  },
  {
   "cell_type": "code",
   "execution_count": null,
   "id": "c3dbaf9d",
   "metadata": {},
   "outputs": [
    {
     "name": "stdout",
     "output_type": "stream",
     "text": [
      "t1 1\n",
      "t2 2\n",
      "t1 3\n",
      "t2 4\n",
      "t1 5\n"
     ]
    }
   ],
   "source": [
    "# your code here\n",
    "from threading import Lock\n",
    "n=0\n",
    "lock = Lock()\n",
    "\n",
    "def f1(num,s):\n",
    "    global n\n",
    "    with lock:\n",
    "        if n<num :\n",
    "            n+=1\n",
    "            print(s,n)\n",
    "    return 0\n",
    "while(n<10):\n",
    "    t1 = Thread(target=f1,args=(5,'t1',))\n",
    "    t2 = Thread(target=f1,args=(5,'t2',))\n",
    "\n",
    "    t1.start()\n",
    "    t2.start()\n",
    "\n",
    "    t1.join()\n",
    "    t2.join()\n",
    "\n",
    "print('Done...')"
   ]
  },
  {
   "cell_type": "markdown",
   "id": "8d45fee2",
   "metadata": {},
   "source": [
    "## 3. Thread Pooling\n",
    "\n",
    "Use the `concurrent.futures.ThreadPoolExecutor` module to create a thread pool and parallelize a task (e.g., calculating the square of numbers) among multiple threads.\n",
    "\n",
    "```python\n",
    "numbers = [1, 2, 3, 4, 5]\n",
    "```"
   ]
  },
  {
   "cell_type": "code",
   "execution_count": 21,
   "id": "0379e5e9",
   "metadata": {},
   "outputs": [
    {
     "name": "stdout",
     "output_type": "stream",
     "text": [
      "1.0\n",
      "1.4142135623730951\n",
      "1.7320508075688772\n",
      "2.0\n",
      "2.23606797749979\n"
     ]
    }
   ],
   "source": [
    "# your code here\n",
    "\n",
    "from concurrent.futures import ThreadPoolExecutor\n",
    "\n",
    "def sq(k):\n",
    "    print(k**0.5)\n",
    "    return 0\n",
    "with ThreadPoolExecutor() as executer:\n",
    "    nmr = [1,2,3,4,5]\n",
    "    executer.map(sq, nmr)"
   ]
  },
  {
   "cell_type": "markdown",
   "id": "aacf816a",
   "metadata": {},
   "source": [
    "## 4. Thread with Function Arguments\n",
    "\n",
    "```python\n",
    "\n",
    "import threading\n",
    "import time\n",
    "\n",
    "def print_hello():\n",
    "    for _ in range(5):\n",
    "        print(\"Hello, \", end='')\n",
    "        time.sleep(0.1)\n",
    "\n",
    "def print_world():\n",
    "    for _ in range(5):\n",
    "        print(\"World!\")\n",
    "        time.sleep(0.1)\n",
    "\n",
    "# Create two threads\n",
    "thread1 = threading.Thread(target=print_hello)\n",
    "thread2 = threading.Thread(target=print_world)\n",
    "\n",
    "# Start the threads\n",
    "thread1.start()\n",
    "thread2.start()\n",
    "\n",
    "# Wait for both threads to finish\n",
    "thread1.join()\n",
    "thread2.join()\n",
    "```\n",
    "\n",
    "Modify this program to pass an argument to the threads and print the thread's name along with the message."
   ]
  },
  {
   "cell_type": "code",
   "execution_count": 23,
   "id": "d7fd05ee",
   "metadata": {},
   "outputs": [
    {
     "name": "stdout",
     "output_type": "stream",
     "text": [
      "abcd,1234,\n",
      "abcd,1234,\n",
      "abcd,1234,\n",
      "abcd,1234,\n",
      "abcd,1234,\n"
     ]
    }
   ],
   "source": [
    "#your code here\n",
    "import threading\n",
    "import time\n",
    "\n",
    "def print_hello(char):\n",
    "    for _ in range(5):\n",
    "        print(f'{char},', end='')\n",
    "        time.sleep(0.1)\n",
    "\n",
    "def print_world(char):\n",
    "    for _ in range(5):\n",
    "        print(f'{char},')\n",
    "        time.sleep(0.1)\n",
    "\n",
    "# Create two threads\n",
    "thread1 = threading.Thread(target=print_hello,args=('abcd',))\n",
    "thread2 = threading.Thread(target=print_world,args=('1234',))\n",
    "\n",
    "# Start the threads\n",
    "thread1.start()\n",
    "thread2.start()\n",
    "\n",
    "# Wait for both threads to finish\n",
    "thread1.join()\n",
    "thread2.join()"
   ]
  },
  {
   "cell_type": "code",
   "execution_count": 13,
   "id": "d2fbff02",
   "metadata": {},
   "outputs": [
    {
     "name": "stdout",
     "output_type": "stream",
     "text": [
      "Final Counter Value: 2000000\n"
     ]
    }
   ],
   "source": []
  }
 ],
 "metadata": {
  "kernelspec": {
   "display_name": "Python 3",
   "language": "python",
   "name": "python3"
  },
  "language_info": {
   "codemirror_mode": {
    "name": "ipython",
    "version": 3
   },
   "file_extension": ".py",
   "mimetype": "text/x-python",
   "name": "python",
   "nbconvert_exporter": "python",
   "pygments_lexer": "ipython3",
   "version": "3.8.13"
  }
 },
 "nbformat": 4,
 "nbformat_minor": 5
}
