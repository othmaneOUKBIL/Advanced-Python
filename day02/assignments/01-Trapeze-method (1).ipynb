{
 "cells": [
  {
   "cell_type": "markdown",
   "metadata": {},
   "source": [
    "# Exercices"
   ]
  },
  {
   "cell_type": "code",
   "execution_count": 59,
   "metadata": {},
   "outputs": [],
   "source": [
    "import numpy as np\n",
    "import matplotlib.pyplot as plt\n",
    "def compute_integrale_trapeze(x, y, n):\n",
    "    f=lambda x: np.cos(x)\n",
    "    integrale=0\n",
    "    nbi=(y-x)/n\n",
    "    yi=x+nbi\n",
    "    while yi<y:\n",
    "        integrale+=nbi*(f(x)+f(yi))/2\n",
    "        x+=nbi\n",
    "        yi+=nbi\n",
    "    return integrale\n",
    "\n",
    "def plot_integrale(x, y, n):\n",
    "    f=lambda x: np.cos(x)\n",
    "    x_rect=[]\n",
    "    y_rect=[]\n",
    "    yi=x\n",
    "    nbi=(y-x)/n\n",
    "    while yi<y:\n",
    "        x_rect.append(yi) # abscisses des sommets\n",
    "        y_rect.append(nbi*(f(x)+f(yi))/2) # ordonnees des sommets\n",
    "        yi+=nbi\n",
    "    plt.plot(x_rect, y_rect,\"r\")\n",
    "    return 0"
   ]
  },
  {
   "cell_type": "code",
   "execution_count": 61,
   "metadata": {},
   "outputs": [
    {
     "name": "stdout",
     "output_type": "stream",
     "text": [
      "-0.9953693365978925\n"
     ]
    },
    {
     "data": {
      "text/plain": [
       "0"
      ]
     },
     "execution_count": 61,
     "metadata": {},
     "output_type": "execute_result"
    },
    {
     "data": {
      "image/png": "[encoded data removed]",
      "text/plain": [
       "<Figure size 432x288 with 1 Axes>"
      ]
     },
     "metadata": {
      "needs_background": "light"
     },
     "output_type": "display_data"
    }
   ],
   "source": [
    "xmin = 0\n",
    "xmax = 3*np.pi/2\n",
    "nbi=20\n",
    "print(compute_integrale_trapeze(xmin,xmax,nbi))\n",
    "plot_integrale(xmin,xmax,nbi)"
   ]
  },
  {
   "cell_type": "markdown",
   "metadata": {},
   "source": [
    "- Consider function cosinus\n",
    "- Write the function compute_integrale_trapeze to compute the integral as described on the lesson\n",
    "- Write the function plot_integrale to plot the integral\n",
    "- Plot both cosinus function and its integral\n",
    "- The result must be as the figure bellow \n",
    "\n",
    "![demo](../../data/Trapeze.png)\n"
   ]
  },
  {
   "cell_type": "code",
   "execution_count": null,
   "metadata": {},
   "outputs": [],
   "source": []
  }
 ],
 "metadata": {
  "hide_input": false,
  "kernelspec": {
   "display_name": "Python 3",
   "language": "python",
   "name": "python3"
  },
  "language_info": {
   "codemirror_mode": {
    "name": "ipython",
    "version": 3
   },
   "file_extension": ".py",
   "mimetype": "text/x-python",
   "name": "python",
   "nbconvert_exporter": "python",
   "pygments_lexer": "ipython3",
   "version": "3.8.13"
  }
 },
 "nbformat": 4,
 "nbformat_minor": 4
}
