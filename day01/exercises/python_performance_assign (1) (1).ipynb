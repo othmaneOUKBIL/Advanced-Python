{
 "cells": [
  {
   "cell_type": "markdown",
   "id": "9e8892ba",
   "metadata": {},
   "source": [
    "<h1 align=\"center\">Python performance exercises</h1>"
   ]
  },
  {
   "cell_type": "markdown",
   "id": "282983fc",
   "metadata": {},
   "source": [
    "## Python best practices exercises"
   ]
  },
  {
   "cell_type": "markdown",
   "id": "5efcd4d3",
   "metadata": {},
   "source": [
    "### Exercise 1\n",
    "\n",
    "considering the following function for concatenating list strings with delimiter."
   ]
  },
  {
   "cell_type": "code",
   "execution_count": 17,
   "id": "8d029815",
   "metadata": {},
   "outputs": [],
   "source": [
    "def ft_concatenate(l_strings, d):\n",
    "    \"\"\"concatenate list of strings into one string separated by delimiter\"\"\"\n",
    "    res = l_strings[0]\n",
    "    for e in l_strings[1:]:\n",
    "        res = res + d + e\n",
    "    return res"
   ]
  },
  {
   "cell_type": "markdown",
   "id": "18ae5106",
   "metadata": {},
   "source": [
    "- profile the function and identify the bottlenecks.\n",
    "- improve speed up of the function\n",
    "*Hint: you may need to look to the string functions in python documentation*"
   ]
  },
  {
   "cell_type": "code",
   "execution_count": 18,
   "id": "e996651f",
   "metadata": {},
   "outputs": [
    {
     "name": "stdout",
     "output_type": "stream",
     "text": [
      "154 µs ± 926 ns per loop (mean ± std. dev. of 7 runs, 10000 loops each)\n"
     ]
    }
   ],
   "source": [
    " %timeit ft_concatenate(\"a\"*1000,\"_\")"
   ]
  },
  {
   "cell_type": "code",
   "execution_count": 7,
   "id": "23a9d672",
   "metadata": {},
   "outputs": [
    {
     "name": "stdout",
     "output_type": "stream",
     "text": [
      " "
     ]
    }
   ],
   "source": [
    "%prun -s cumulative ft_concatenate(\"a\"*1000,\"_\")"
   ]
  },
  {
   "cell_type": "code",
   "execution_count": 12,
   "id": "dd1d7d5a",
   "metadata": {},
   "outputs": [
    {
     "name": "stdout",
     "output_type": "stream",
     "text": [
      "Defaulting to user installation because normal site-packages is not writeable\n",
      "Requirement already satisfied: line_profiler in /home/othmane.oukbil/.local/lib/python3.8/site-packages (4.1.1)\n",
      "Note: you may need to restart the kernel to use updated packages.\n"
     ]
    }
   ],
   "source": [
    "pip install line_profiler"
   ]
  },
  {
   "cell_type": "code",
   "execution_count": 1,
   "id": "505ebc03",
   "metadata": {},
   "outputs": [],
   "source": [
    "%load_ext line_profiler"
   ]
  },
  {
   "cell_type": "code",
   "execution_count": 15,
   "id": "5fe9cf60",
   "metadata": {},
   "outputs": [],
   "source": [
    "%lprun -f ft_concatenate ft_concatenate(\"a\"*1000,\"_\")\n"
   ]
  },
  {
   "cell_type": "code",
   "execution_count": 17,
   "id": "28eacd32",
   "metadata": {},
   "outputs": [
    {
     "name": "stdout",
     "output_type": "stream",
     "text": [
      "Defaulting to user installation because normal site-packages is not writeable\n",
      "Collecting memory_profiler\n",
      "  Downloading memory_profiler-0.61.0-py3-none-any.whl (31 kB)\n",
      "Requirement already satisfied: psutil in /home/team1337/.local/easybuild_new/software/Anaconda3/2020.11/lib/python3.8/site-packages (from memory_profiler) (5.7.2)\n",
      "Installing collected packages: memory-profiler\n",
      "Successfully installed memory-profiler-0.61.0\n",
      "Note: you may need to restart the kernel to use updated packages.\n"
     ]
    }
   ],
   "source": [
    "pip install memory_profiler"
   ]
  },
  {
   "cell_type": "code",
   "execution_count": 1,
   "id": "c3f40bc1",
   "metadata": {},
   "outputs": [],
   "source": [
    " %load_ext memory_profiler"
   ]
  },
  {
   "cell_type": "code",
   "execution_count": 13,
   "id": "87e468af",
   "metadata": {},
   "outputs": [
    {
     "name": "stdout",
     "output_type": "stream",
     "text": [
      "ERROR: Could not find file <ipython-input-12-a3ba7ea0615e>\n",
      "NOTE: %mprun can only be used on functions defined in physical files, and not in the IPython environment.\n",
      "\n"
     ]
    }
   ],
   "source": [
    "%mprun -f ft_concatenate ft_concatenate(\"a\"*1000,\"_\")"
   ]
  },
  {
   "cell_type": "code",
   "execution_count": 3,
   "id": "024f9b98",
   "metadata": {},
   "outputs": [
    {
     "data": {
      "text/plain": [
       "'a-a-a-a'"
      ]
     },
     "execution_count": 3,
     "metadata": {},
     "output_type": "execute_result"
    }
   ],
   "source": [
    "# write your code here\n",
    "def ft_concatenate1(l_strings, d):\n",
    "    \"\"\"concatenate list of strings into one string separated by delimiter\"\"\"\n",
    "    res = d.join(l_strings)\n",
    "    \n",
    "    return res"
   ]
  },
  {
   "cell_type": "code",
   "execution_count": 2,
   "id": "180e4513",
   "metadata": {},
   "outputs": [
    {
     "name": "stdout",
     "output_type": "stream",
     "text": [
      "12.8 µs ± 24.9 ns per loop (mean ± std. dev. of 7 runs, 100000 loops each)\n"
     ]
    }
   ],
   "source": [
    "%timeit ft_concatenate1(\"a\"*1000,\"_\")"
   ]
  },
  {
   "cell_type": "markdown",
   "id": "554e4d1d",
   "metadata": {},
   "source": [
    "### Exercise 2\n",
    "\n",
    "In this exercise you will solve the following problem using two methods bruteforce method, and fast method.\n",
    "\n",
    "**Problem:** You are given a list of n integers, and your task is to calculate the number of distinct values in the list.\n",
    "\n",
    "**Example**\n",
    "- Input:\n",
    "5\n",
    "2 3 2 2 3\n",
    "\n",
    "- Output:\n",
    "2\n",
    "\n",
    "**Implement the following methods:**\n",
    "\n",
    "1. **bruteforce method:** create an empty list and start adding items for the given list without adding the previous item add, at the end the result list will contain unique values, print lenght of the list and you are done. \n",
    "2. **fast method** think of using Set data structure.\n",
    "\n",
    "- time the two methods, what do you think?"
   ]
  },
  {
   "cell_type": "code",
   "execution_count": 21,
   "id": "f59fffb9",
   "metadata": {},
   "outputs": [],
   "source": [
    "# bruteforce method\n",
    "def bruteforce_method(lst):\n",
    "    l=[]\n",
    "    for i in lst:\n",
    "        if i not in l:\n",
    "            l.append(i)\n",
    "    return len(l)"
   ]
  },
  {
   "cell_type": "code",
   "execution_count": 22,
   "id": "f9f8e247",
   "metadata": {},
   "outputs": [
    {
     "data": {
      "text/plain": [
       "3"
      ]
     },
     "execution_count": 22,
     "metadata": {},
     "output_type": "execute_result"
    }
   ],
   "source": [
    "bruteforce_method([5,2,3,2,2,3])"
   ]
  },
  {
   "cell_type": "code",
   "execution_count": 23,
   "id": "4525cb5f",
   "metadata": {},
   "outputs": [],
   "source": [
    "# fast method\n",
    "def fast_method(lst):\n",
    "    result_set = set()\n",
    "    for item in lst:\n",
    "        result_set.add(item)\n",
    "    result_list = list(result_set)\n",
    "    return len(result_list)"
   ]
  },
  {
   "cell_type": "code",
   "execution_count": 24,
   "id": "e8d7e9c5",
   "metadata": {},
   "outputs": [
    {
     "data": {
      "text/plain": [
       "3"
      ]
     },
     "execution_count": 24,
     "metadata": {},
     "output_type": "execute_result"
    }
   ],
   "source": [
    "fast_method([5,2,3,2,2,3])"
   ]
  },
  {
   "cell_type": "code",
   "execution_count": 25,
   "id": "68b41519",
   "metadata": {},
   "outputs": [],
   "source": [
    "import random\n",
    "# Create a random list of numbers for testing\n",
    "random_list = [random.randint(1, 20) for _ in range(1000)]\n"
   ]
  },
  {
   "cell_type": "code",
   "execution_count": 26,
   "id": "5ab36e29",
   "metadata": {},
   "outputs": [
    {
     "name": "stdout",
     "output_type": "stream",
     "text": [
      "98.7 µs ± 278 ns per loop (mean ± std. dev. of 7 runs, 10000 loops each)\n"
     ]
    }
   ],
   "source": [
    "# time the two methods\n",
    "%timeit bruteforce_method(random_list)"
   ]
  },
  {
   "cell_type": "code",
   "execution_count": 37,
   "id": "b8479a64",
   "metadata": {},
   "outputs": [
    {
     "name": "stdout",
     "output_type": "stream",
     "text": [
      "34.5 µs ± 149 ns per loop (mean ± std. dev. of 7 runs, 10000 loops each)\n"
     ]
    }
   ],
   "source": [
    "%timeit fast_method(random_list)"
   ]
  },
  {
   "cell_type": "markdown",
   "id": "2105bddb",
   "metadata": {},
   "source": [
    "## Cython exercises"
   ]
  },
  {
   "cell_type": "markdown",
   "id": "a343b5a2",
   "metadata": {},
   "source": [
    "### Exercise 1"
   ]
  },
  {
   "cell_type": "markdown",
   "id": "ace90d17",
   "metadata": {},
   "source": [
    "1. load the cython extension."
   ]
  },
  {
   "cell_type": "code",
   "execution_count": 55,
   "id": "d380d0a3",
   "metadata": {},
   "outputs": [
    {
     "name": "stdout",
     "output_type": "stream",
     "text": [
      "The Cython extension is already loaded. To reload it, use:\n",
      "  %reload_ext Cython\n"
     ]
    }
   ],
   "source": [
    "%load_ext Cython"
   ]
  },
  {
   "cell_type": "markdown",
   "id": "e88067aa",
   "metadata": {},
   "source": [
    "2. Considering the following polynomial function:"
   ]
  },
  {
   "cell_type": "code",
   "execution_count": 1,
   "id": "134d0004",
   "metadata": {},
   "outputs": [],
   "source": [
    "def poly(a,b):\n",
    "    return 10.5 * a + 3 * (b**2)"
   ]
  },
  {
   "cell_type": "markdown",
   "id": "b42c590f",
   "metadata": {},
   "source": [
    "- Create an equivalent Cython function of `poly` with name `poly_cy`."
   ]
  },
  {
   "cell_type": "code",
   "execution_count": 51,
   "id": "5df4d3c2",
   "metadata": {},
   "outputs": [],
   "source": [
    "%%cython\n",
    "def poly_cython(double a, double b):\n",
    "    return 10.5 * a + 3 * (b**2)"
   ]
  },
  {
   "cell_type": "markdown",
   "id": "20771017",
   "metadata": {},
   "source": [
    "3. time the performance of Python and Cython version of the function, what is the factor of speed up between the two verions."
   ]
  },
  {
   "cell_type": "code",
   "execution_count": 52,
   "id": "46373e13",
   "metadata": {},
   "outputs": [
    {
     "name": "stdout",
     "output_type": "stream",
     "text": [
      "271 ns ± 1.04 ns per loop (mean ± std. dev. of 7 runs, 1000000 loops each)\n"
     ]
    }
   ],
   "source": [
    "# write your code here\n",
    "%timeit poly(1000,1000)"
   ]
  },
  {
   "cell_type": "code",
   "execution_count": 53,
   "id": "f04326ae",
   "metadata": {},
   "outputs": [
    {
     "name": "stdout",
     "output_type": "stream",
     "text": [
      "66.8 ns ± 0.249 ns per loop (mean ± std. dev. of 7 runs, 10000000 loops each)\n"
     ]
    }
   ],
   "source": [
    "%timeit poly_cython(1000,1000)"
   ]
  },
  {
   "cell_type": "markdown",
   "id": "6c590ba1",
   "metadata": {},
   "source": [
    "4. Now let's work on another example using loop.\n",
    "    - rewrite the same function below fib that calculates the fibonacci sequence using cython, but now try to add type for the variables used inside it, add a prefix `_cy` to your new cython function."
   ]
  },
  {
   "cell_type": "code",
   "execution_count": 3,
   "id": "6e780a2a",
   "metadata": {},
   "outputs": [],
   "source": [
    "def fib(n):\n",
    "    a, b = 0, 1\n",
    "    for i in range(n):\n",
    "        a, b = a + b, a\n",
    "    return a"
   ]
  },
  {
   "cell_type": "code",
   "execution_count": 32,
   "id": "ddd3dec7",
   "metadata": {},
   "outputs": [
    {
     "data": {
      "text/plain": [
       "5"
      ]
     },
     "execution_count": 32,
     "metadata": {},
     "output_type": "execute_result"
    }
   ],
   "source": [
    "fib(5)"
   ]
  },
  {
   "cell_type": "code",
   "execution_count": 6,
   "id": "d72583b3",
   "metadata": {},
   "outputs": [],
   "source": [
    "%reload_ext cython"
   ]
  },
  {
   "cell_type": "code",
   "execution_count": 35,
   "id": "679ef27d",
   "metadata": {},
   "outputs": [],
   "source": [
    "%%cython\n",
    "def fib_cython(int n):\n",
    "    cdef int a, b, i \n",
    "    a=1\n",
    "    b=1\n",
    "    for i in range(n):\n",
    "        a, b = a + b, a\n",
    "    return a"
   ]
  },
  {
   "cell_type": "markdown",
   "id": "50e3fdc9",
   "metadata": {},
   "source": [
    "- time the two function for fibonacci series, with n = 20, what is the factor of speed now, What do you think?"
   ]
  },
  {
   "cell_type": "code",
   "execution_count": 66,
   "id": "d90a83ed",
   "metadata": {},
   "outputs": [
    {
     "name": "stdout",
     "output_type": "stream",
     "text": [
      "42.4 ns ± 0.754 ns per loop (mean ± std. dev. of 7 runs, 10000000 loops each)\n"
     ]
    }
   ],
   "source": [
    "# write your code here\n",
    "%timeit fib_cython(20)"
   ]
  },
  {
   "cell_type": "code",
   "execution_count": 4,
   "id": "ee541fa4",
   "metadata": {},
   "outputs": [
    {
     "name": "stdout",
     "output_type": "stream",
     "text": [
      "827 ns ± 0.933 ns per loop (mean ± std. dev. of 7 runs, 1000000 loops each)\n"
     ]
    }
   ],
   "source": [
    "%timeit fib(20)"
   ]
  },
  {
   "cell_type": "markdown",
   "id": "6597443f",
   "metadata": {},
   "source": [
    "5. Recursive functions are functions that call themselves during their execution. Another interesting property of the Fibonacci sequence is that it can be written as a recursive function. That’s because each item depends on the values of other items (namely item n-1 and item n-2)\n",
    "\n",
    "- Rewrite the fib function using recursion. Is it faster than the non-recursive version? Does Cythonizing it give even more of an advantage? "
   ]
  },
  {
   "cell_type": "code",
   "execution_count": 26,
   "id": "dc765886",
   "metadata": {},
   "outputs": [],
   "source": [
    "# write your code here\n",
    "def fib_rec(n):\n",
    "    if n==0:\n",
    "        return 0\n",
    "    elif n==1:\n",
    "        return 1\n",
    "    else:\n",
    "        return fib_rec(n-1)+fib_rec(n-2)"
   ]
  },
  {
   "cell_type": "code",
   "execution_count": 29,
   "id": "3f0bd303",
   "metadata": {},
   "outputs": [
    {
     "data": {
      "text/plain": [
       "8"
      ]
     },
     "execution_count": 29,
     "metadata": {},
     "output_type": "execute_result"
    }
   ],
   "source": [
    "fib_rec(6)"
   ]
  },
  {
   "cell_type": "code",
   "execution_count": 36,
   "id": "1802d21f",
   "metadata": {},
   "outputs": [
    {
     "name": "stdout",
     "output_type": "stream",
     "text": [
      "53.7 ns ± 0.85 ns per loop (mean ± std. dev. of 7 runs, 10000000 loops each)\n"
     ]
    }
   ],
   "source": [
    "%timeit fib_cython(20)"
   ]
  },
  {
   "cell_type": "code",
   "execution_count": 37,
   "id": "fc064561",
   "metadata": {},
   "outputs": [
    {
     "name": "stdout",
     "output_type": "stream",
     "text": [
      "1.9 ms ± 8.92 µs per loop (mean ± std. dev. of 7 runs, 1000 loops each)\n"
     ]
    }
   ],
   "source": [
    "%timeit fib_rec(20)"
   ]
  },
  {
   "cell_type": "markdown",
   "id": "cdd229a8",
   "metadata": {},
   "source": [
    "### Exercise 2\n",
    "\n",
    "- Monte Carlo methods are a broad class of computational algorithms that rely on repeated random sampling to obtain numerical results. \n",
    "- One of the basic examples of getting started with the Monte Carlo algorithm is the estimation of Pi.\n",
    "\n",
    "**Estimation of Pi**\n",
    "\n",
    "- The idea is to simulate random (x, y) points in a 2-D plane with domain as a square of side 1 unit. \n",
    "- Imagine a circle inside the same domain with same diameter and inscribed into the square. \n",
    "- We then calculate the ratio of number points that lied inside the circle and total number of generated points. \n",
    "- Refer to the image below:\n",
    "\n",
    "![demo](../data/MonteCarloPlot.png)\n",
    "\n",
    "We know that area of the square is 1 unit sq while that of circle is $\\pi \\ast  (\\frac{1}{2})^{2} = \\frac{\\pi}{4}$. Now for a very large number of generated points,\n",
    "\n",
    "![demo](../data/MonteCarloCalc.png)\n",
    "\n",
    "\n",
    "## The Algorithm\n",
    "\n",
    "1. Initialize cile_points, square_points and interval to 0.\n",
    "2. Generate random point x.\n",
    "3. Generate random point y.\n",
    "4. Calculate d = x*x + y*y.\n",
    "5. If d <= 1, increment circle_points.\n",
    "6. Increment square_points.\n",
    "7. Increment interval.\n",
    "8. If increment < NO_OF_ITERATIONS, repeat from 2.\n",
    "9. Calculate pi = 4*(circle_points/square_points).\n",
    "10. Terminate."
   ]
  },
  {
   "cell_type": "markdown",
   "id": "71d23d4f",
   "metadata": {},
   "source": [
    "**Your mission:** time the function `monte_carlo_pi`, identify the bottlenecks and create a new version using cython functionality to speed up monte carlo simulation for PI, use 100,000 points and compare the speed up factor between python and cython, considering the following optimizations:\n",
    "- add type for variables used.\n",
    "- add type for the function\n",
    "- use c rand function instead of python rand function.\n",
    " \n",
    "*Hint: you can import function from C libraries using the following approach `from libc.<name of c library> cimport <library function name>`, replace the holders `<>` with the right identities for the current problem*"
   ]
  },
  {
   "cell_type": "code",
   "execution_count": 1,
   "id": "85006cfe",
   "metadata": {},
   "outputs": [],
   "source": [
    "import random\n",
    "def monte_carlo_pi(nsamples):\n",
    "    pi = 0\n",
    "    circle_points = 0\n",
    "    square_points = 0\n",
    "    for increment in range(nsamples):\n",
    "        x = random.random()\n",
    "        y = random.random()\n",
    "        d = x * x + y * y\n",
    "        if d <= 1:\n",
    "            circle_points += 1\n",
    "        square_points += 1\n",
    "    pi = 4 * (circle_points / square_points)\n",
    "    return pi"
   ]
  },
  {
   "cell_type": "code",
   "execution_count": 2,
   "id": "829122f6",
   "metadata": {},
   "outputs": [
    {
     "data": {
      "text/plain": [
       "3.1438"
      ]
     },
     "execution_count": 2,
     "metadata": {},
     "output_type": "execute_result"
    }
   ],
   "source": [
    "monte_carlo_pi(100000)"
   ]
  },
  {
   "cell_type": "code",
   "execution_count": 14,
   "id": "aab2fbbe",
   "metadata": {},
   "outputs": [
    {
     "name": "stdout",
     "output_type": "stream",
     "text": [
      "25.3 ms ± 277 µs per loop (mean ± std. dev. of 7 runs, 10 loops each)\n"
     ]
    }
   ],
   "source": [
    "%timeit monte_carlo_pi(100000)"
   ]
  },
  {
   "cell_type": "code",
   "execution_count": 19,
   "id": "f48b8dbd",
   "metadata": {},
   "outputs": [],
   "source": [
    "%%cython\n",
    "from libc.stdlib cimport rand\n",
    "cdef float montecarlo_cython(int n):\n",
    "    cdef float pi,x,y,d\n",
    "    cdef int circle_points ,square_points,increment \n",
    "    pi=0\n",
    "    circle_points=0\n",
    "    square_points=0\n",
    "    for increment in range(n):\n",
    "        x = rand()\n",
    "        y = rand()\n",
    "        d = x * x + y * y\n",
    "        if d <= 1:\n",
    "            circle_points += 1\n",
    "        square_points += 1\n",
    "    pi = 4 * (circle_points / square_points)\n",
    "    return pi"
   ]
  },
  {
   "cell_type": "code",
   "execution_count": 20,
   "id": "c0ae0c66",
   "metadata": {},
   "outputs": [
    {
     "name": "stdout",
     "output_type": "stream",
     "text": [
      "13.8 ms ± 389 µs per loop (mean ± std. dev. of 7 runs, 100 loops each)\n"
     ]
    }
   ],
   "source": [
    "%timeit montecarlo_cython(100000)"
   ]
  },
  {
   "cell_type": "markdown",
   "id": "7cffad91",
   "metadata": {},
   "source": [
    "## Numba exercises"
   ]
  },
  {
   "cell_type": "markdown",
   "id": "5fb764ad",
   "metadata": {},
   "source": [
    "### Exercise 1\n",
    "\n",
    "Previously we considered how to approximateby Monte Carlo.\n",
    "\n",
    "- Use the same idea here, but make the code efficient using Numba.\n",
    "- Compare speed with and without Numba when the sample size is large."
   ]
  },
  {
   "cell_type": "code",
   "execution_count": 21,
   "id": "3b3720c0",
   "metadata": {},
   "outputs": [],
   "source": [
    "# Your code here\n",
    "from numba import njit\n",
    "import random\n",
    "\n",
    "@njit\n",
    "def monte_carlo_pi(nsamples):\n",
    "    pi = 0\n",
    "    circle_points = 0\n",
    "    square_points = 0\n",
    "    for increment in range(nsamples):\n",
    "        x = random.random()\n",
    "        y = random.random()\n",
    "        d = x * x + y * y\n",
    "        if d <= 1:\n",
    "            circle_points += 1\n",
    "        square_points += 1\n",
    "    pi = 4 * (circle_points / square_points)\n",
    "    return pi"
   ]
  },
  {
   "cell_type": "code",
   "execution_count": 22,
   "id": "527c5105",
   "metadata": {},
   "outputs": [
    {
     "name": "stdout",
     "output_type": "stream",
     "text": [
      "866 µs ± 5.32 µs per loop (mean ± std. dev. of 7 runs, 1 loop each)\n"
     ]
    }
   ],
   "source": [
    "%timeit monte_carlo_pi(100000)"
   ]
  },
  {
   "cell_type": "markdown",
   "id": "08a72a33",
   "metadata": {},
   "source": [
    "### Exercise 2\n",
    "\n",
    "In the [Introduction to Quantitative Economics](https://python.quantecon.org/intro.html) with Python lecture series you can learn all about finite-state Markov chains.\n",
    "\n",
    "For now, let's just concentrate on simulating a very simple example of such a chain.\n",
    "\n",
    "Suppose that the volatility of returns on an asset can be in one of two regimes — high or low.\n",
    "\n",
    "The transition probabilities across states are as follows ![markov](../data/markov.png)\n",
    "\n",
    "For example, let the period length be one day, and suppose the current state is high.\n",
    "\n",
    "We see from the graph that the state tomorrow will be\n",
    "\n",
    "- high with probability 0.8\n",
    "\n",
    "- low with probability 0.2\n",
    "\n",
    "Your task is to simulate a sequence of daily volatility states according to this rule.\n",
    "\n",
    "Set the length of the sequence to `n = 1_000_000` and start in the high state.\n",
    "\n",
    "Implement a pure Python version and a Numba version, and compare speeds.\n",
    "\n",
    "To test your code, evaluate the fraction of time that the chain spends in the low state.\n",
    "\n",
    "If your code is correct, it should be about 2/3.\n",
    "\n",
    "Hints:\n",
    "\n",
    "- Represent the low state as 0 and the high state as 1.\n",
    "\n",
    "- If you want to store integers in a NumPy array and then apply JIT compilation, use `x = np.empty(n, dtype=np.int_)`.\n"
   ]
  },
  {
   "cell_type": "code",
   "execution_count": 20,
   "id": "bb5597bf",
   "metadata": {},
   "outputs": [],
   "source": [
    "import random\n",
    "def mark(n):\n",
    "    low=[0,0,0,0,0,0,0,0,0,1]\n",
    "    high=[1,1,1,1,1,1,1,1,0,0]\n",
    "    x=0\n",
    "    for i in range(n):\n",
    "        if x==0:\n",
    "            stat=random.choice(low)\n",
    "        else:\n",
    "            stat=random.choice(high)\n",
    "        x=stat\n",
    "    return x"
   ]
  },
  {
   "cell_type": "code",
   "execution_count": 21,
   "id": "448078aa",
   "metadata": {},
   "outputs": [
    {
     "name": "stdout",
     "output_type": "stream",
     "text": [
      "333 ms ± 4.26 ms per loop (mean ± std. dev. of 7 runs, 1 loop each)\n"
     ]
    }
   ],
   "source": [
    "%timeit mark(1000000)"
   ]
  },
  {
   "cell_type": "code",
   "execution_count": 22,
   "id": "e860f4d8",
   "metadata": {},
   "outputs": [],
   "source": [
    "from numba import njit\n",
    "import random\n",
    "import numpy as np\n",
    "@njit\n",
    "def mark_numba(n):\n",
    "    low = np.array([0, 0, 0, 0, 0, 0, 0, 0, 0, 1], dtype=np.int32)\n",
    "    high = np.array([1, 1, 1, 1, 1, 1, 1, 1, 0, 0], dtype=np.int32)\n",
    "    x=0\n",
    "    for i in range(n):\n",
    "        if x==0:\n",
    "            stat=np.random.choice(low)\n",
    "        else:\n",
    "            stat=np.random.choice(high)\n",
    "        x=stat\n",
    "    return x\n"
   ]
  },
  {
   "cell_type": "code",
   "execution_count": 23,
   "id": "8d1666b8",
   "metadata": {},
   "outputs": [
    {
     "name": "stdout",
     "output_type": "stream",
     "text": [
      "9.82 ms ± 66.5 µs per loop (mean ± std. dev. of 7 runs, 1 loop each)\n"
     ]
    }
   ],
   "source": [
    "%timeit mark_numba(1000000)"
   ]
  },
  {
   "cell_type": "code",
   "execution_count": null,
   "id": "b147cdd8",
   "metadata": {},
   "outputs": [],
   "source": []
  }
 ],
 "metadata": {
  "hide_input": false,
  "kernelspec": {
   "display_name": "Python 3",
   "language": "python",
   "name": "python3"
  },
  "language_info": {
   "codemirror_mode": {
    "name": "ipython",
    "version": 3
   },
   "file_extension": ".py",
   "mimetype": "text/x-python",
   "name": "python",
   "nbconvert_exporter": "python",
   "pygments_lexer": "ipython3",
   "version": "3.8.13"
  }
 },
 "nbformat": 4,
 "nbformat_minor": 5
}
